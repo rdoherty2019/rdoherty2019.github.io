{
 "cells": [
  {
   "cell_type": "markdown",
   "metadata": {},
   "source": [
    "# SEO Keyword Trend Analyzer\n",
    "\n",
    "Thank you to [Farhad Malik](https://medium.com/fintechexplained/how-this-python-script-generates-me-income-daily-63bfbab6596c) for his helpful article on building a keyword generator to help effectiveness of blog posts. Keyword effectiveness is a huge part of the digital marketing teams workload and impact. There are tools you can use and pay for, but when you have the ability why not build your own. "
   ]
  },
  {
   "cell_type": "code",
   "execution_count": 1,
   "metadata": {},
   "outputs": [],
   "source": [
    "import re\n",
    "from string import punctuation\n",
    "\n",
    "import nltk\n",
    "from nltk import TreebankWordTokenizer, sent_tokenize\n",
    "from nltk.corpus import stopwords"
   ]
  },
  {
   "cell_type": "code",
   "execution_count": 2,
   "metadata": {},
   "outputs": [],
   "source": [
    "class KeywordsGenerator:\n",
    "    def __init__(self, pytrends):\n",
    "        self._pytrends = pytrends\n",
    "\n",
    "    def generate_tags(self, file_path, top_words=30):\n",
    "        # get the contents of the file or post\n",
    "        file_text = self._get_file_contents(file_path)\n",
    "        # Drop Noise from the test\n",
    "        clean_text = self._remove_noise(file_text)\n",
    "        # Get the top used words\n",
    "        top_words = self._get_top_words(clean_text, top_words)\n",
    "        suggestions = []\n",
    "        for top_word in top_words:\n",
    "            suggestions.extend(self.get_suggestions(top_word))\n",
    "        suggestions.extend(top_words)\n",
    "        tags = self._clean_tokens(suggestions)\n",
    "        return \",\".join(list(set(tags)))\n",
    "\n",
    "    def _remove_noise(self, text):\n",
    "        #1. Convert Text To Lowercase and remove numbers\n",
    "        lower_case_text = str.lower(text)\n",
    "        just_text = re.sub(r'\\d+', '', lower_case_text)        #2. Tokenise Paragraphs To words\n",
    "        list = sent_tokenize(just_text)\n",
    "        tokenizer = TreebankWordTokenizer()\n",
    "        tokens = tokenizer.tokenize(just_text)\n",
    "        #3. Clean text\n",
    "        clean = self._clean_tokens(tokens)\n",
    "        return clean\n",
    "\n",
    "    def _clean_tokens(self, tokens):\n",
    "        clean_words = [w for w in tokens if w not in punctuation]\n",
    "        stopwords_to_remove = stopwords.words('english')\n",
    "        clean = [w for w in clean_words if w not in stopwords_to_remove and not w.isnumeric()]\n",
    "        return clean\n",
    "\n",
    "    def get_suggestions(self, keyword):\n",
    "        print(f'Searching pytrends for {keyword}')\n",
    "        result = []\n",
    "        self._pytrends.build_payload([keyword], cat=0, timeframe='today 12-m')\n",
    "        data = self._pytrends.related_queries()[keyword]['top']\n",
    "        if data is None or data.values is None:\n",
    "            return result\n",
    "        result.extend([x[0] for x in data.values.tolist()][:2])\n",
    "        return result\n",
    "\n",
    "    def _get_file_contents(self, file_path):\n",
    "        return open(file_path, \"r\", encoding='utf-8',errors='ignore').read()\n",
    "\n",
    "    def _get_top_words(self, words, top):\n",
    "        counts = dict()\n",
    "\n",
    "        for word in words:\n",
    "            if word in counts:\n",
    "                counts[word] += 1\n",
    "            else:\n",
    "                counts[word] = 1\n",
    "\n",
    "        return list({k: v for k, v in sorted(counts.items(), key=lambda item: item[1])}.keys())[:top]"
   ]
  },
  {
   "cell_type": "code",
   "execution_count": 3,
   "metadata": {},
   "outputs": [],
   "source": [
    "if __name__ == \"1__main__\":\n",
    "    from pytrends.request import TrendReq\n",
    "\n",
    "    nltk.download('punkt')\n",
    "    nltk.download('stopwords')\n",
    "    pytrends = TrendReq(hl='en-GB', tz=360)\n",
    "    tags = KeywordsGenerator(pytrends)\\\n",
    "              .generate_tags('text_file.txt')\n",
    "    print(tags)"
   ]
  },
  {
   "cell_type": "code",
   "execution_count": null,
   "metadata": {},
   "outputs": [],
   "source": []
  }
 ],
 "metadata": {
  "kernelspec": {
   "display_name": "Python 3",
   "language": "python",
   "name": "python3"
  },
  "language_info": {
   "codemirror_mode": {
    "name": "ipython",
    "version": 3
   },
   "file_extension": ".py",
   "mimetype": "text/x-python",
   "name": "python",
   "nbconvert_exporter": "python",
   "pygments_lexer": "ipython3",
   "version": "3.7.6"
  }
 },
 "nbformat": 4,
 "nbformat_minor": 4
}
