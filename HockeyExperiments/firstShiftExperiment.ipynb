{
 "cells": [
  {
   "cell_type": "markdown",
   "metadata": {},
   "source": [
    "# Introdcution:\n",
    "\n",
    "*Researcher*: Richie Doherty - Data Science and Hockey enthusiast.\n",
    "\n",
    "*Title*: First Shift Experiment\n",
    "\n",
    "*Research Focus*: NHL Player first shift length data, and its connection to goal output per game per player. \n",
    "\n",
    "*Contact*: rd2414@nyu.edu\n",
    "\n",
    "*Github*: rdoherty2019\n",
    "\n",
    "*Github Portfiolo*: rdoherty2019.github.io\n",
    "\n",
    "Would love to talk about Hockey and Data Science.\n",
    "\n",
    "## Abstract:\n",
    "\n",
    "There was a thought back in my playing days that revolved around the idea of \"catching your second wind\". It involved a quote by or about Wayne Gretzky. It described why he would take such a long first shift, or why his coach would double shift him on his first shift. It was so he could \"catch his second wind\", meaning that since he was tired after his first shift, he would catch his breath, and then have more endurance thereafter and would play better.\n",
    "\n",
    "To my knowledge this was an intentional tactic by Gretzky or his coach to have a higher impact on the game. I want to see if this has any credence or is just some myth that a coach made up to play his best player more often at the beginning of the game. To do so I took 2015 shift data and 2015 play by play data from the NHL to determine if the first shift length had an impact on the outcome of the players average goals per game. \n",
    "\n",
    "My findings were that the first shift length being greater than the average shift length doesn't have an affect on the average goals per game per player. Further we found that players score more goals per game on average if they have a shorter than average first shift. We ran this experiment 10,000 more times, taking a sample of the combined first shift and average goals per game data, and we were able to replicate our results for the 2015 season. We can say with 95% confidence that our findings from the 2015 season are likely to occur. \n",
    "\n",
    "By researching NHL first shift and play by play data it is evident that shorter first shifts are better for players than longer first shifts, and that whoever was coaching Wayne Gretzky at the time of this quote was using it as an excuse to play the best player of all time more often in the first period to get an early lead. "
   ]
  },
  {
   "cell_type": "markdown",
   "metadata": {},
   "source": [
    "## Hypothesis\n",
    "\n",
    "Null Hypothesis: The first shift length for a player has no impact on the players goal that game. \n",
    "\n",
    "Alternative Hypothesis: A longer first shift improves the player goals for that game."
   ]
  },
  {
   "cell_type": "markdown",
   "metadata": {},
   "source": [
    "## Measurement:\n",
    "\n",
    "There are plenty of ways to measure effect on a game, but we are going to keep it limited to goals for that game.\n",
    "\n",
    "To consider a shift \"long\" we're going to calculate the average shift length for all players in the league and view how those fits on the distribution. \n",
    "\n",
    "Then the first shift long for each game for each player we are going to compare its duration to the average length. We will place the player in a bin (Long shift, Short Shift).\n",
    "\n",
    "Then compare the goals for all players over a season to see if the first shift had an impact on goals for, for a game on average."
   ]
  },
  {
   "cell_type": "markdown",
   "metadata": {},
   "source": [
    "## Bias/Assumptions\n",
    "\n",
    "Outcomes/Goals: We know that all players aren't the same, for example Conner McDavid is going to be more valuable during his shifts and is going to have more shifts than a below average player in the NHL, but the hope is that by viewing the entire NHL population we’re going to average the outlier players like Connor McDavid and his less talented counter parts to the population.\n",
    "\n",
    "Inputs/Shifts: \n",
    "\n",
    "I had quite a few thoughts around this one:\n",
    "The first one being is a shift long if it is just higher than the average or is there some point that makes a shift long? If say for example the average shift is 40 seconds should a shift that is 41 seconds be considered long? To help keep the experiment simple the first attempt I'm going to consider it as yes, that shift is \"long\". In the future, an adaptation might be to only include shifts that are \"long\" to be 1 standard deviation from the average shift. Roughly speaking, in a normal distribution, a shift that is 1 standard deviation above the mean is equivalent to the 84th percentile. Now that’s a long shift. \n",
    "\n",
    "Another thought I had from my playing days was that I took a short first shift and then my second shift would be \"long\" to help me get into the game. But for the sake of the experiment, we're only going to focus on the first shift. The thought here being that in an NHL game, if you are a forward on the 4th line you second shift might not occur until, (40 (sec) * 4 (# of lines) * 2 (Iterations/Shifts)) = 320 Seconds / 60 Sec = 5.3 Minutes into the game. Within that time so many \"events\" (Goals, powerplays, penalties against, TV Timeouts) might occur to affect how shifts might be distributed. \n",
    "\n",
    "Finally, we're only going to consider the first shift of the first period. NHL intermissions are rather long (18 minutes), but we are going to assume that the players are into the game at that point."
   ]
  },
  {
   "cell_type": "markdown",
   "metadata": {},
   "source": [
    "## Considerations\n",
    "\n",
    "Do we want to consider removing outliers from the data, the top and bottom percent of shifts. \n",
    "\n",
    "Do we want to consider standarizining the shifts? So that they are easier to view if they are above average?\n",
    "\n",
    "Do we want to consider one stD away from the mean to be higher than average?"
   ]
  },
  {
   "cell_type": "markdown",
   "metadata": {},
   "source": [
    "# Experiment"
   ]
  },
  {
   "cell_type": "markdown",
   "metadata": {},
   "source": [
    "## Type: Difference in Means\n",
    "Since we have a category of short versus long first shift, I am going to do a diff from diff for the means. My assumption is that the population of players and their outcomes are standard and even. The only difference is going to be their first shift length. Then I can compare the outcomes on average (Goals/Game Average) to see if first shift length has an impact."
   ]
  },
  {
   "cell_type": "markdown",
   "metadata": {},
   "source": [
    "## Type: Linear Regression\n",
    "After I have decided in the null hypothesis is true or not, I am going to run a linear regression to see the first shift affects the goal outcomes"
   ]
  },
  {
   "cell_type": "markdown",
   "metadata": {},
   "source": [
    "# Data"
   ]
  },
  {
   "cell_type": "code",
   "execution_count": 2,
   "metadata": {},
   "outputs": [],
   "source": [
    "# Pandas for Dataframes\n",
    "import pandas as pd\n",
    "# Numerical Py to do some calculations\n",
    "import numpy as np\n",
    "# Hockey Scrapper will import the data for us\n",
    "import hockey_scraper as hs\n",
    "# Matplotlib for plotting charts\n",
    "import matplotlib.pyplot as plt\n",
    "# Seaborn for some advanced visual\n",
    "import seaborn as sns"
   ]
  },
  {
   "cell_type": "code",
   "execution_count": 3,
   "metadata": {},
   "outputs": [
    {
     "ename": "FileNotFoundError",
     "evalue": "[Errno 2] File ../hockey_scraper_data/csvs/nhl_shifts_20152016.csv does not exist: '../hockey_scraper_data/csvs/nhl_shifts_20152016.csv'",
     "output_type": "error",
     "traceback": [
      "\u001b[0;31m---------------------------------------------------------------------------\u001b[0m",
      "\u001b[0;31mFileNotFoundError\u001b[0m                         Traceback (most recent call last)",
      "\u001b[0;32m<ipython-input-3-8601c84f45ed>\u001b[0m in \u001b[0;36m<module>\u001b[0;34m\u001b[0m\n\u001b[1;32m      4\u001b[0m \u001b[0;34m\u001b[0m\u001b[0m\n\u001b[1;32m      5\u001b[0m \u001b[0;31m# 2015 Shift Data\u001b[0m\u001b[0;34m\u001b[0m\u001b[0;34m\u001b[0m\u001b[0;34m\u001b[0m\u001b[0m\n\u001b[0;32m----> 6\u001b[0;31m \u001b[0mshift2015\u001b[0m \u001b[0;34m=\u001b[0m \u001b[0mpd\u001b[0m\u001b[0;34m.\u001b[0m\u001b[0mread_csv\u001b[0m\u001b[0;34m(\u001b[0m\u001b[0;34m\"../hockey_scraper_data/csvs/nhl_shifts_20152016.csv\"\u001b[0m\u001b[0;34m)\u001b[0m\u001b[0;34m\u001b[0m\u001b[0;34m\u001b[0m\u001b[0m\n\u001b[0m\u001b[1;32m      7\u001b[0m \u001b[0;31m# 2015 Play by Play Data\u001b[0m\u001b[0;34m\u001b[0m\u001b[0;34m\u001b[0m\u001b[0;34m\u001b[0m\u001b[0m\n\u001b[1;32m      8\u001b[0m \u001b[0mpbp2015\u001b[0m \u001b[0;34m=\u001b[0m \u001b[0mpd\u001b[0m\u001b[0;34m.\u001b[0m\u001b[0mread_csv\u001b[0m\u001b[0;34m(\u001b[0m\u001b[0;34m\"../hockey_scraper_data/csvs/nhl_pbp_20152016.csv\"\u001b[0m\u001b[0;34m)\u001b[0m\u001b[0;34m\u001b[0m\u001b[0;34m\u001b[0m\u001b[0m\n",
      "\u001b[0;32m~/opt/anaconda3/lib/python3.7/site-packages/pandas/io/parsers.py\u001b[0m in \u001b[0;36mparser_f\u001b[0;34m(filepath_or_buffer, sep, delimiter, header, names, index_col, usecols, squeeze, prefix, mangle_dupe_cols, dtype, engine, converters, true_values, false_values, skipinitialspace, skiprows, skipfooter, nrows, na_values, keep_default_na, na_filter, verbose, skip_blank_lines, parse_dates, infer_datetime_format, keep_date_col, date_parser, dayfirst, cache_dates, iterator, chunksize, compression, thousands, decimal, lineterminator, quotechar, quoting, doublequote, escapechar, comment, encoding, dialect, error_bad_lines, warn_bad_lines, delim_whitespace, low_memory, memory_map, float_precision)\u001b[0m\n\u001b[1;32m    674\u001b[0m         )\n\u001b[1;32m    675\u001b[0m \u001b[0;34m\u001b[0m\u001b[0m\n\u001b[0;32m--> 676\u001b[0;31m         \u001b[0;32mreturn\u001b[0m \u001b[0m_read\u001b[0m\u001b[0;34m(\u001b[0m\u001b[0mfilepath_or_buffer\u001b[0m\u001b[0;34m,\u001b[0m \u001b[0mkwds\u001b[0m\u001b[0;34m)\u001b[0m\u001b[0;34m\u001b[0m\u001b[0;34m\u001b[0m\u001b[0m\n\u001b[0m\u001b[1;32m    677\u001b[0m \u001b[0;34m\u001b[0m\u001b[0m\n\u001b[1;32m    678\u001b[0m     \u001b[0mparser_f\u001b[0m\u001b[0;34m.\u001b[0m\u001b[0m__name__\u001b[0m \u001b[0;34m=\u001b[0m \u001b[0mname\u001b[0m\u001b[0;34m\u001b[0m\u001b[0;34m\u001b[0m\u001b[0m\n",
      "\u001b[0;32m~/opt/anaconda3/lib/python3.7/site-packages/pandas/io/parsers.py\u001b[0m in \u001b[0;36m_read\u001b[0;34m(filepath_or_buffer, kwds)\u001b[0m\n\u001b[1;32m    446\u001b[0m \u001b[0;34m\u001b[0m\u001b[0m\n\u001b[1;32m    447\u001b[0m     \u001b[0;31m# Create the parser.\u001b[0m\u001b[0;34m\u001b[0m\u001b[0;34m\u001b[0m\u001b[0;34m\u001b[0m\u001b[0m\n\u001b[0;32m--> 448\u001b[0;31m     \u001b[0mparser\u001b[0m \u001b[0;34m=\u001b[0m \u001b[0mTextFileReader\u001b[0m\u001b[0;34m(\u001b[0m\u001b[0mfp_or_buf\u001b[0m\u001b[0;34m,\u001b[0m \u001b[0;34m**\u001b[0m\u001b[0mkwds\u001b[0m\u001b[0;34m)\u001b[0m\u001b[0;34m\u001b[0m\u001b[0;34m\u001b[0m\u001b[0m\n\u001b[0m\u001b[1;32m    449\u001b[0m \u001b[0;34m\u001b[0m\u001b[0m\n\u001b[1;32m    450\u001b[0m     \u001b[0;32mif\u001b[0m \u001b[0mchunksize\u001b[0m \u001b[0;32mor\u001b[0m \u001b[0miterator\u001b[0m\u001b[0;34m:\u001b[0m\u001b[0;34m\u001b[0m\u001b[0;34m\u001b[0m\u001b[0m\n",
      "\u001b[0;32m~/opt/anaconda3/lib/python3.7/site-packages/pandas/io/parsers.py\u001b[0m in \u001b[0;36m__init__\u001b[0;34m(self, f, engine, **kwds)\u001b[0m\n\u001b[1;32m    878\u001b[0m             \u001b[0mself\u001b[0m\u001b[0;34m.\u001b[0m\u001b[0moptions\u001b[0m\u001b[0;34m[\u001b[0m\u001b[0;34m\"has_index_names\"\u001b[0m\u001b[0;34m]\u001b[0m \u001b[0;34m=\u001b[0m \u001b[0mkwds\u001b[0m\u001b[0;34m[\u001b[0m\u001b[0;34m\"has_index_names\"\u001b[0m\u001b[0;34m]\u001b[0m\u001b[0;34m\u001b[0m\u001b[0;34m\u001b[0m\u001b[0m\n\u001b[1;32m    879\u001b[0m \u001b[0;34m\u001b[0m\u001b[0m\n\u001b[0;32m--> 880\u001b[0;31m         \u001b[0mself\u001b[0m\u001b[0;34m.\u001b[0m\u001b[0m_make_engine\u001b[0m\u001b[0;34m(\u001b[0m\u001b[0mself\u001b[0m\u001b[0;34m.\u001b[0m\u001b[0mengine\u001b[0m\u001b[0;34m)\u001b[0m\u001b[0;34m\u001b[0m\u001b[0;34m\u001b[0m\u001b[0m\n\u001b[0m\u001b[1;32m    881\u001b[0m \u001b[0;34m\u001b[0m\u001b[0m\n\u001b[1;32m    882\u001b[0m     \u001b[0;32mdef\u001b[0m \u001b[0mclose\u001b[0m\u001b[0;34m(\u001b[0m\u001b[0mself\u001b[0m\u001b[0;34m)\u001b[0m\u001b[0;34m:\u001b[0m\u001b[0;34m\u001b[0m\u001b[0;34m\u001b[0m\u001b[0m\n",
      "\u001b[0;32m~/opt/anaconda3/lib/python3.7/site-packages/pandas/io/parsers.py\u001b[0m in \u001b[0;36m_make_engine\u001b[0;34m(self, engine)\u001b[0m\n\u001b[1;32m   1112\u001b[0m     \u001b[0;32mdef\u001b[0m \u001b[0m_make_engine\u001b[0m\u001b[0;34m(\u001b[0m\u001b[0mself\u001b[0m\u001b[0;34m,\u001b[0m \u001b[0mengine\u001b[0m\u001b[0;34m=\u001b[0m\u001b[0;34m\"c\"\u001b[0m\u001b[0;34m)\u001b[0m\u001b[0;34m:\u001b[0m\u001b[0;34m\u001b[0m\u001b[0;34m\u001b[0m\u001b[0m\n\u001b[1;32m   1113\u001b[0m         \u001b[0;32mif\u001b[0m \u001b[0mengine\u001b[0m \u001b[0;34m==\u001b[0m \u001b[0;34m\"c\"\u001b[0m\u001b[0;34m:\u001b[0m\u001b[0;34m\u001b[0m\u001b[0;34m\u001b[0m\u001b[0m\n\u001b[0;32m-> 1114\u001b[0;31m             \u001b[0mself\u001b[0m\u001b[0;34m.\u001b[0m\u001b[0m_engine\u001b[0m \u001b[0;34m=\u001b[0m \u001b[0mCParserWrapper\u001b[0m\u001b[0;34m(\u001b[0m\u001b[0mself\u001b[0m\u001b[0;34m.\u001b[0m\u001b[0mf\u001b[0m\u001b[0;34m,\u001b[0m \u001b[0;34m**\u001b[0m\u001b[0mself\u001b[0m\u001b[0;34m.\u001b[0m\u001b[0moptions\u001b[0m\u001b[0;34m)\u001b[0m\u001b[0;34m\u001b[0m\u001b[0;34m\u001b[0m\u001b[0m\n\u001b[0m\u001b[1;32m   1115\u001b[0m         \u001b[0;32melse\u001b[0m\u001b[0;34m:\u001b[0m\u001b[0;34m\u001b[0m\u001b[0;34m\u001b[0m\u001b[0m\n\u001b[1;32m   1116\u001b[0m             \u001b[0;32mif\u001b[0m \u001b[0mengine\u001b[0m \u001b[0;34m==\u001b[0m \u001b[0;34m\"python\"\u001b[0m\u001b[0;34m:\u001b[0m\u001b[0;34m\u001b[0m\u001b[0;34m\u001b[0m\u001b[0m\n",
      "\u001b[0;32m~/opt/anaconda3/lib/python3.7/site-packages/pandas/io/parsers.py\u001b[0m in \u001b[0;36m__init__\u001b[0;34m(self, src, **kwds)\u001b[0m\n\u001b[1;32m   1889\u001b[0m         \u001b[0mkwds\u001b[0m\u001b[0;34m[\u001b[0m\u001b[0;34m\"usecols\"\u001b[0m\u001b[0;34m]\u001b[0m \u001b[0;34m=\u001b[0m \u001b[0mself\u001b[0m\u001b[0;34m.\u001b[0m\u001b[0musecols\u001b[0m\u001b[0;34m\u001b[0m\u001b[0;34m\u001b[0m\u001b[0m\n\u001b[1;32m   1890\u001b[0m \u001b[0;34m\u001b[0m\u001b[0m\n\u001b[0;32m-> 1891\u001b[0;31m         \u001b[0mself\u001b[0m\u001b[0;34m.\u001b[0m\u001b[0m_reader\u001b[0m \u001b[0;34m=\u001b[0m \u001b[0mparsers\u001b[0m\u001b[0;34m.\u001b[0m\u001b[0mTextReader\u001b[0m\u001b[0;34m(\u001b[0m\u001b[0msrc\u001b[0m\u001b[0;34m,\u001b[0m \u001b[0;34m**\u001b[0m\u001b[0mkwds\u001b[0m\u001b[0;34m)\u001b[0m\u001b[0;34m\u001b[0m\u001b[0;34m\u001b[0m\u001b[0m\n\u001b[0m\u001b[1;32m   1892\u001b[0m         \u001b[0mself\u001b[0m\u001b[0;34m.\u001b[0m\u001b[0munnamed_cols\u001b[0m \u001b[0;34m=\u001b[0m \u001b[0mself\u001b[0m\u001b[0;34m.\u001b[0m\u001b[0m_reader\u001b[0m\u001b[0;34m.\u001b[0m\u001b[0munnamed_cols\u001b[0m\u001b[0;34m\u001b[0m\u001b[0;34m\u001b[0m\u001b[0m\n\u001b[1;32m   1893\u001b[0m \u001b[0;34m\u001b[0m\u001b[0m\n",
      "\u001b[0;32mpandas/_libs/parsers.pyx\u001b[0m in \u001b[0;36mpandas._libs.parsers.TextReader.__cinit__\u001b[0;34m()\u001b[0m\n",
      "\u001b[0;32mpandas/_libs/parsers.pyx\u001b[0m in \u001b[0;36mpandas._libs.parsers.TextReader._setup_parser_source\u001b[0;34m()\u001b[0m\n",
      "\u001b[0;31mFileNotFoundError\u001b[0m: [Errno 2] File ../hockey_scraper_data/csvs/nhl_shifts_20152016.csv does not exist: '../hockey_scraper_data/csvs/nhl_shifts_20152016.csv'"
     ]
    }
   ],
   "source": [
    "# Prior to this I imported the shift and pbp data for 2015 and 2016 Season\n",
    "# Instead of rescrapping everytime, I had the hockey_scraper package write to my local so I can reference later\n",
    "# See documentation for assistance on how to do this https://github.com/HarryShomer/Hockey-Scraper\n",
    "\n",
    "# 2015 Shift Data\n",
    "shift2015 = pd.read_csv(\"../hockey_scraper_data/csvs/nhl_shifts_20152016.csv\")\n",
    "# 2015 Play by Play Data\n",
    "pbp2015 = pd.read_csv(\"../hockey_scraper_data/csvs/nhl_pbp_20152016.csv\")"
   ]
  },
  {
   "cell_type": "code",
   "execution_count": null,
   "metadata": {},
   "outputs": [],
   "source": [
    "#show full output on DataFrame Rows\n",
    "pd.set_option('display.max_rows', 500)\n",
    "# Show full number on describes\n",
    "pd.set_option('display.float_format', lambda x: '%.5f' % x)"
   ]
  },
  {
   "cell_type": "code",
   "execution_count": null,
   "metadata": {},
   "outputs": [],
   "source": [
    "shift2015RowNumber = shift2015.shape[0]\n",
    "print(\"2015 Total Number of Shifts:\",shift2015RowNumber)"
   ]
  },
  {
   "cell_type": "code",
   "execution_count": 7,
   "metadata": {},
   "outputs": [
    {
     "name": "stdout",
     "output_type": "stream",
     "text": [
      "2015 Total Number of Plays: 413656\n"
     ]
    }
   ],
   "source": [
    "pbp2015RowNumber = pbp2015.shape[0]\n",
    "print(\"2015 Total Number of Plays:\",pbp2015RowNumber)"
   ]
  },
  {
   "cell_type": "markdown",
   "metadata": {},
   "source": [
    "# Metrics for our experiment:\n",
    "\n",
    "shift data:\n",
    "Need every first shift for every player in that that. (For every game (gameID), find the the first shift (Unnamed: 0) for every player (playerId). Add that player to the category \"Long\" or \"Short\" category\n",
    "\n",
    "pbp2015:\n",
    "For every game, and every player, calculate if they scored (Go through every PBP entry for every game, and every player).\n"
   ]
  },
  {
   "cell_type": "markdown",
   "metadata": {},
   "source": [
    "# Data Clean Up"
   ]
  },
  {
   "cell_type": "code",
   "execution_count": 10,
   "metadata": {},
   "outputs": [],
   "source": [
    "# Rename column \"Unnamed: 0\" to shift_Id\n",
    "shift2015.rename(columns = {\"Unnamed: 0\" : \"Shift_Id\"}, inplace = True)\n",
    "# Rename column \"Unnamed: 0\" to Pbp_Id\n",
    "pbp2015.rename(columns = {\"Unnamed: 0\" : \"Pbp_Id\"}, inplace = True)\n",
    "# Replace NaN and infinite values with a suitable value (e.g. 0)\n",
    "pbp2015['p1_ID'].replace([np.inf, -np.inf, np.nan], 0, inplace=True)\n",
    "# Convert player_ids to ints not floats\n",
    "pbp2015['p1_ID'] = pbp2015['p1_ID'].astype(int)"
   ]
  },
  {
   "cell_type": "markdown",
   "metadata": {},
   "source": [
    "## Remove Unwanted Data"
   ]
  },
  {
   "cell_type": "code",
   "execution_count": 12,
   "metadata": {
    "scrolled": true
   },
   "outputs": [],
   "source": [
    "# Drop columns\n",
    "# Need to keep goalie IDs to drop the goal from the Shift Data\n",
    "pbp2015.drop(columns = {'Description','Type','Ev_Team', 'Home_Zone', 'Away_Team', 'Home_Team',\n",
    "       'Time_Elapsed', 'Seconds_Elapsed', 'Strength', 'Ev_Zone','awayPlayer1', 'awayPlayer1_id',\n",
    "       'awayPlayer2', 'awayPlayer2_id', 'awayPlayer3', 'awayPlayer3_id',\n",
    "       'awayPlayer4', 'awayPlayer4_id', 'awayPlayer5', 'awayPlayer5_id',\n",
    "       'awayPlayer6', 'awayPlayer6_id', 'homePlayer1', 'homePlayer1_id',\n",
    "       'homePlayer2', 'homePlayer2_id', 'homePlayer3', 'homePlayer3_id',\n",
    "       'homePlayer4', 'homePlayer4_id', 'homePlayer5', 'homePlayer5_id',\n",
    "       'homePlayer6', 'homePlayer6_id', 'Away_Players', 'Home_Players',\n",
    "       'Away_Score', 'Home_Score', 'xC', 'yC', 'Home_Coach',\n",
    "       'Away_Coach'}, inplace = True)"
   ]
  },
  {
   "cell_type": "code",
   "execution_count": 13,
   "metadata": {},
   "outputs": [
    {
     "name": "stdout",
     "output_type": "stream",
     "text": [
      "Play by Play 2015 (413656, 15)\n"
     ]
    }
   ],
   "source": [
    "print(\"Play by Play 2015\", pbp2015.shape)"
   ]
  },
  {
   "cell_type": "code",
   "execution_count": 14,
   "metadata": {},
   "outputs": [],
   "source": [
    "# We want to remove Goalies from the shift Data\n",
    "# Their shifts will skew the data\n",
    "# Find all the unique goalie IDs from the Home and Away Goalie Ids in the Play By Play Data\n",
    "# Union will drop duplicates\n",
    "allGoalies2015 = np.union1d( pd.unique(pbp2015[\"Away_Goalie_Id\"]), pd.unique(pbp2015[\"Home_Goalie_Id\"]))\n",
    "# Drop the empty fields\n",
    "allGoalies2015 = allGoalies2015[~np.isnan(allGoalies2015)]"
   ]
  },
  {
   "cell_type": "code",
   "execution_count": 15,
   "metadata": {},
   "outputs": [
    {
     "name": "stdout",
     "output_type": "stream",
     "text": [
      "Goalie Shifts in 2015: 92\n"
     ]
    }
   ],
   "source": [
    "print(\"Goalie Shifts in 2015:\", allGoalies2015.shape[0])"
   ]
  },
  {
   "cell_type": "code",
   "execution_count": 16,
   "metadata": {},
   "outputs": [],
   "source": [
    "# We want to drop all goalies from the shift data\n",
    "shift2015 = shift2015[~shift2015[\"Player_Id\"].isin(allGoalies2015)]"
   ]
  },
  {
   "cell_type": "code",
   "execution_count": 17,
   "metadata": {},
   "outputs": [
    {
     "name": "stdout",
     "output_type": "stream",
     "text": [
      "Shifts without Goalies 2015: 1048232\n",
      "Row dropped from 2015: 10468 Rows Dropped\n"
     ]
    }
   ],
   "source": [
    "print(\"Shifts without Goalies 2015:\", shift2015.shape[0])\n",
    "print(\"Row dropped from 2015:\",  str(shift2015RowNumber - shift2015.shape[0]) , \"Rows Dropped\")"
   ]
  },
  {
   "cell_type": "markdown",
   "metadata": {},
   "source": [
    "## Subset Data"
   ]
  },
  {
   "cell_type": "code",
   "execution_count": 18,
   "metadata": {},
   "outputs": [],
   "source": [
    "# Subset Play by play data to be only goal data for counting later on. \n",
    "goalEvents2015 = pbp2015.loc[pbp2015[\"Event\"]== \"GOAL\", :].copy()\n",
    "# Rename the Play by Play Id to be Goal_Id\n",
    "goalEvents2015.rename(columns={'Pbp_Id': 'Goal_Id'}, inplace=True)\n",
    "# Drop all non-goal columns (Keep the assist columns p2_ID, p3_ID to count points)\n",
    "goalEvents2015.drop(columns=[\"Date\", \n",
    "                             \"Period\", \n",
    "                             \"Event\", \n",
    "                             \"p1_name\", \n",
    "                             \"p2_name\", \n",
    "                             \"p2_ID\", \n",
    "                             \"p3_name\", \n",
    "                             \"p3_ID\", \n",
    "                             \"Away_Goalie\", \n",
    "                             \"Away_Goalie_Id\",  \n",
    "                             \"Home_Goalie\", \n",
    "                             \"Home_Goalie_Id\"], inplace = True)"
   ]
  },
  {
   "cell_type": "code",
   "execution_count": 19,
   "metadata": {},
   "outputs": [
    {
     "name": "stdout",
     "output_type": "stream",
     "text": [
      "Goals in 2015: 7278\n"
     ]
    }
   ],
   "source": [
    "print(\"Goals in 2015:\", goalEvents2015.shape[0])"
   ]
  },
  {
   "cell_type": "code",
   "execution_count": 20,
   "metadata": {},
   "outputs": [],
   "source": [
    "# Limit the Shifts to the first period\n",
    "firstPeriodShift2015 = shift2015.loc[shift2015[\"Period\"] == 1, :].copy()"
   ]
  },
  {
   "cell_type": "code",
   "execution_count": 21,
   "metadata": {},
   "outputs": [
    {
     "name": "stdout",
     "output_type": "stream",
     "text": [
      "Games in 2015: 1320\n"
     ]
    }
   ],
   "source": [
    "# Get a list of all the Game Ids\n",
    "gameIds2015 = firstPeriodShift2015[\"Game_Id\"].unique()\n",
    "print(\"Games in 2015:\", gameIds2015.shape[0])"
   ]
  },
  {
   "cell_type": "code",
   "execution_count": 22,
   "metadata": {},
   "outputs": [],
   "source": [
    "def getFirstShift(gameIds, shifts):\n",
    "    #Go through every game\n",
    "    firstShift = []\n",
    "    # For every gameId in the game IDs\n",
    "    for game in gameIds:\n",
    "        # Find all the shifts that game\n",
    "        gameShifts = shifts[(shifts[\"Game_Id\"] == game)]\n",
    "        # Find the first shift for every player_id\n",
    "        # Group by the Player Ids\n",
    "        # Then take out the Shift_Id, Player_Id, Duration and Game_Id fields\n",
    "        # Then take the first instance of that\n",
    "        playerShifts = gameShifts.groupby(\"Player_Id\")[[\"Shift_Id\",\"Game_Id\", \"Player_Id\", \"Duration\"]].first()\n",
    "        # Add on the first shift for all those players\n",
    "        firstShift.append(playerShifts)\n",
    "    return pd.concat(firstShift)\n",
    "            "
   ]
  },
  {
   "cell_type": "code",
   "execution_count": 23,
   "metadata": {},
   "outputs": [],
   "source": [
    "# Find all the first shifts for 2015\n",
    "firstShift2015 = getFirstShift(gameIds2015, firstPeriodShift2015)"
   ]
  },
  {
   "cell_type": "code",
   "execution_count": 24,
   "metadata": {},
   "outputs": [
    {
     "data": {
      "text/html": [
       "<div>\n",
       "<style scoped>\n",
       "    .dataframe tbody tr th:only-of-type {\n",
       "        vertical-align: middle;\n",
       "    }\n",
       "\n",
       "    .dataframe tbody tr th {\n",
       "        vertical-align: top;\n",
       "    }\n",
       "\n",
       "    .dataframe thead th {\n",
       "        text-align: right;\n",
       "    }\n",
       "</style>\n",
       "<table border=\"1\" class=\"dataframe\">\n",
       "  <thead>\n",
       "    <tr style=\"text-align: right;\">\n",
       "      <th></th>\n",
       "      <th>Shift_Id</th>\n",
       "      <th>Game_Id</th>\n",
       "      <th>Player_Id</th>\n",
       "      <th>Duration</th>\n",
       "    </tr>\n",
       "    <tr>\n",
       "      <th>Player_Id</th>\n",
       "      <th></th>\n",
       "      <th></th>\n",
       "      <th></th>\n",
       "      <th></th>\n",
       "    </tr>\n",
       "  </thead>\n",
       "  <tbody>\n",
       "    <tr>\n",
       "      <th>8467496</th>\n",
       "      <td>0</td>\n",
       "      <td>20001</td>\n",
       "      <td>8467496</td>\n",
       "      <td>36.00000</td>\n",
       "    </tr>\n",
       "    <tr>\n",
       "      <th>8468504</th>\n",
       "      <td>15</td>\n",
       "      <td>20001</td>\n",
       "      <td>8468504</td>\n",
       "      <td>40.00000</td>\n",
       "    </tr>\n",
       "    <tr>\n",
       "      <th>8469521</th>\n",
       "      <td>1</td>\n",
       "      <td>20001</td>\n",
       "      <td>8469521</td>\n",
       "      <td>36.00000</td>\n",
       "    </tr>\n",
       "    <tr>\n",
       "      <th>8469707</th>\n",
       "      <td>22</td>\n",
       "      <td>20001</td>\n",
       "      <td>8469707</td>\n",
       "      <td>37.00000</td>\n",
       "    </tr>\n",
       "    <tr>\n",
       "      <th>8470039</th>\n",
       "      <td>12</td>\n",
       "      <td>20001</td>\n",
       "      <td>8470039</td>\n",
       "      <td>41.00000</td>\n",
       "    </tr>\n",
       "  </tbody>\n",
       "</table>\n",
       "</div>"
      ],
      "text/plain": [
       "           Shift_Id  Game_Id  Player_Id  Duration\n",
       "Player_Id                                        \n",
       "8467496           0    20001    8467496  36.00000\n",
       "8468504          15    20001    8468504  40.00000\n",
       "8469521           1    20001    8469521  36.00000\n",
       "8469707          22    20001    8469707  37.00000\n",
       "8470039          12    20001    8470039  41.00000"
      ]
     },
     "execution_count": 24,
     "metadata": {},
     "output_type": "execute_result"
    }
   ],
   "source": [
    "firstShift2015.head()"
   ]
  },
  {
   "cell_type": "markdown",
   "metadata": {},
   "source": [
    "### Understanding Data"
   ]
  },
  {
   "cell_type": "code",
   "execution_count": 25,
   "metadata": {},
   "outputs": [
    {
     "name": "stdout",
     "output_type": "stream",
     "text": [
      "All Shift Data 2015\n"
     ]
    },
    {
     "data": {
      "text/html": [
       "<div>\n",
       "<style scoped>\n",
       "    .dataframe tbody tr th:only-of-type {\n",
       "        vertical-align: middle;\n",
       "    }\n",
       "\n",
       "    .dataframe tbody tr th {\n",
       "        vertical-align: top;\n",
       "    }\n",
       "\n",
       "    .dataframe thead th {\n",
       "        text-align: right;\n",
       "    }\n",
       "</style>\n",
       "<table border=\"1\" class=\"dataframe\">\n",
       "  <thead>\n",
       "    <tr style=\"text-align: right;\">\n",
       "      <th></th>\n",
       "      <th>Duration</th>\n",
       "    </tr>\n",
       "  </thead>\n",
       "  <tbody>\n",
       "    <tr>\n",
       "      <th>count</th>\n",
       "      <td>1048232.00000</td>\n",
       "    </tr>\n",
       "    <tr>\n",
       "      <th>mean</th>\n",
       "      <td>44.94805</td>\n",
       "    </tr>\n",
       "    <tr>\n",
       "      <th>std</th>\n",
       "      <td>21.32265</td>\n",
       "    </tr>\n",
       "    <tr>\n",
       "      <th>min</th>\n",
       "      <td>0.00000</td>\n",
       "    </tr>\n",
       "    <tr>\n",
       "      <th>25%</th>\n",
       "      <td>31.00000</td>\n",
       "    </tr>\n",
       "    <tr>\n",
       "      <th>50%</th>\n",
       "      <td>44.00000</td>\n",
       "    </tr>\n",
       "    <tr>\n",
       "      <th>75%</th>\n",
       "      <td>56.00000</td>\n",
       "    </tr>\n",
       "    <tr>\n",
       "      <th>max</th>\n",
       "      <td>1003.00000</td>\n",
       "    </tr>\n",
       "  </tbody>\n",
       "</table>\n",
       "</div>"
      ],
      "text/plain": [
       "           Duration\n",
       "count 1048232.00000\n",
       "mean       44.94805\n",
       "std        21.32265\n",
       "min         0.00000\n",
       "25%        31.00000\n",
       "50%        44.00000\n",
       "75%        56.00000\n",
       "max      1003.00000"
      ]
     },
     "execution_count": 25,
     "metadata": {},
     "output_type": "execute_result"
    }
   ],
   "source": [
    "print(\"All Shift Data 2015\")\n",
    "shift2015[[\"Duration\"]].describe()"
   ]
  },
  {
   "cell_type": "code",
   "execution_count": 26,
   "metadata": {},
   "outputs": [
    {
     "name": "stdout",
     "output_type": "stream",
     "text": [
      "All First Shift Data 2015\n"
     ]
    },
    {
     "data": {
      "text/html": [
       "<div>\n",
       "<style scoped>\n",
       "    .dataframe tbody tr th:only-of-type {\n",
       "        vertical-align: middle;\n",
       "    }\n",
       "\n",
       "    .dataframe tbody tr th {\n",
       "        vertical-align: top;\n",
       "    }\n",
       "\n",
       "    .dataframe thead th {\n",
       "        text-align: right;\n",
       "    }\n",
       "</style>\n",
       "<table border=\"1\" class=\"dataframe\">\n",
       "  <thead>\n",
       "    <tr style=\"text-align: right;\">\n",
       "      <th></th>\n",
       "      <th>Duration</th>\n",
       "    </tr>\n",
       "  </thead>\n",
       "  <tbody>\n",
       "    <tr>\n",
       "      <th>count</th>\n",
       "      <td>47517.00000</td>\n",
       "    </tr>\n",
       "    <tr>\n",
       "      <th>mean</th>\n",
       "      <td>41.65610</td>\n",
       "    </tr>\n",
       "    <tr>\n",
       "      <th>std</th>\n",
       "      <td>15.74502</td>\n",
       "    </tr>\n",
       "    <tr>\n",
       "      <th>min</th>\n",
       "      <td>0.00000</td>\n",
       "    </tr>\n",
       "    <tr>\n",
       "      <th>25%</th>\n",
       "      <td>32.00000</td>\n",
       "    </tr>\n",
       "    <tr>\n",
       "      <th>50%</th>\n",
       "      <td>41.00000</td>\n",
       "    </tr>\n",
       "    <tr>\n",
       "      <th>75%</th>\n",
       "      <td>51.00000</td>\n",
       "    </tr>\n",
       "    <tr>\n",
       "      <th>max</th>\n",
       "      <td>219.00000</td>\n",
       "    </tr>\n",
       "  </tbody>\n",
       "</table>\n",
       "</div>"
      ],
      "text/plain": [
       "         Duration\n",
       "count 47517.00000\n",
       "mean     41.65610\n",
       "std      15.74502\n",
       "min       0.00000\n",
       "25%      32.00000\n",
       "50%      41.00000\n",
       "75%      51.00000\n",
       "max     219.00000"
      ]
     },
     "execution_count": 26,
     "metadata": {},
     "output_type": "execute_result"
    }
   ],
   "source": [
    "print(\"All First Shift Data 2015\")\n",
    "firstShift2015[[\"Duration\"]].describe()"
   ]
  },
  {
   "cell_type": "markdown",
   "metadata": {},
   "source": [
    "## Distributions\n",
    "Skewness is a measure of asymmetry of a distribution.In a normal distribution, the mean divides the curve symmetrically into two equal parts at the median and the value of skewness is zero. When the value of the skewness is negative, the tail of the distribution is longer towards the left hand side of the curve. When the value of the skewness is positive, the tail of the distribution is longer towards the right hand side of the curve\n",
    "\n",
    "\n",
    "Kurtosis is one of the two measures that quantify shape of a distribution. Kutosis determine the volume of the outlier. Kurtosis describes the peakedness of the distribution, if the distribution is tall and thin it is (Kurtosis > 3). Values with high peakness distribution are near the mean or at the extremes. A flat distribution where the values are moderately spread out. "
   ]
  },
  {
   "cell_type": "markdown",
   "metadata": {},
   "source": [
    "### All Player Shifts"
   ]
  },
  {
   "cell_type": "code",
   "execution_count": 27,
   "metadata": {},
   "outputs": [
    {
     "name": "stdout",
     "output_type": "stream",
     "text": [
      "Distribution skew of 2015 Shifts 1.6312278238576077\n",
      "Distribution peakness of 2015 Shifts 36.04838717756141\n"
     ]
    }
   ],
   "source": [
    "print( \"Distribution skew of 2015 Shifts\", shift2015[\"Duration\"].skew())\n",
    "print( \"Distribution peakness of 2015 Shifts\", shift2015[\"Duration\"].kurtosis())"
   ]
  },
  {
   "cell_type": "markdown",
   "metadata": {},
   "source": [
    "With the the skewness being greater than 1 at 1.63, the data is highly skewed. \n",
    "\n",
    "If the distribution is tall and thin it is called a leptokurtic distribution(Kurtosis > 3)."
   ]
  },
  {
   "cell_type": "code",
   "execution_count": 28,
   "metadata": {},
   "outputs": [
    {
     "data": {
      "image/png": "[encoded data removed]",
      "text/plain": [
       "<Figure size 432x288 with 1 Axes>"
      ]
     },
     "metadata": {
      "needs_background": "light"
     },
     "output_type": "display_data"
    }
   ],
   "source": [
    "fig, ax = plt.subplots()\n",
    "ax.hist(shift2015[\"Duration\"], bins= 100, density = True)\n",
    "ax.set_xlabel('Shift Duration (Seconds)')\n",
    "ax.set_ylabel('Probability density')\n",
    "ax.set_title(r'Histogram of 2015 Shift Length')\n",
    "\n",
    "fig.tight_layout()\n",
    "plt.xlim(xmin=int(shift2015[[\"Duration\"]].min()), xmax = int(shift2015[[\"Duration\"]].max()))\n",
    "plt.show()"
   ]
  },
  {
   "cell_type": "markdown",
   "metadata": {},
   "source": [
    "### First Shifts"
   ]
  },
  {
   "cell_type": "code",
   "execution_count": 29,
   "metadata": {},
   "outputs": [
    {
     "name": "stdout",
     "output_type": "stream",
     "text": [
      "Distribution skew of 2015 First Shifts 0.5981245820475164\n",
      "Distribution peakness of 2015 First Shifts 2.2456785868017164\n"
     ]
    }
   ],
   "source": [
    "print( \"Distribution skew of 2015 First Shifts\", firstShift2015[\"Duration\"].skew())\n",
    "print( \"Distribution peakness of 2015 First Shifts\", firstShift2015[\"Duration\"].kurtosis())"
   ]
  },
  {
   "cell_type": "code",
   "execution_count": 30,
   "metadata": {},
   "outputs": [
    {
     "data": {
      "image/png": "[encoded data removed]",
      "text/plain": [
       "<Figure size 432x288 with 1 Axes>"
      ]
     },
     "metadata": {
      "needs_background": "light"
     },
     "output_type": "display_data"
    }
   ],
   "source": [
    "fig, ax = plt.subplots()\n",
    "ax.hist(firstShift2015[\"Duration\"],bins= 100, density = True)\n",
    "ax.set_xlabel('Shift Duration (Seconds)')\n",
    "ax.set_ylabel('Probability density')\n",
    "ax.set_title(r'Histogram of 2015 First Shift Length')\n",
    "\n",
    "fig.tight_layout()\n",
    "plt.xlim(xmin=int(firstShift2015[[\"Duration\"]].min()), xmax = int(firstShift2015[[\"Duration\"]].max()))\n",
    "plt.show()"
   ]
  },
  {
   "cell_type": "markdown",
   "metadata": {},
   "source": [
    "## Outlier Removal\n",
    "\n",
    "Since my data is right tailed, meaning there are som shifts that are extremely long, they will drag my mean to the right of the median, the middle point of the data. I propose removing any shifts longer than 128 seconds. Although that is double the average shift (44 Seconds) that would be the equal of doubling shifting your best player, which is what gretzky supposedly did. "
   ]
  },
  {
   "cell_type": "code",
   "execution_count": 31,
   "metadata": {},
   "outputs": [
    {
     "name": "stdout",
     "output_type": "stream",
     "text": [
      "All Shifts Rows dropped: 3741\n"
     ]
    }
   ],
   "source": [
    "withOutliers2015 = shift2015.shape[0]\n",
    "shift2015= shift2015[shift2015[\"Duration\"] < 128.0 ]\n",
    "print(\"All Shifts Rows dropped:\", withOutliers2015 -  shift2015.shape[0])"
   ]
  },
  {
   "cell_type": "code",
   "execution_count": 32,
   "metadata": {},
   "outputs": [
    {
     "name": "stdout",
     "output_type": "stream",
     "text": [
      "First Rows dropped: 24\n"
     ]
    }
   ],
   "source": [
    "FSOutliers2015 = firstShift2015.shape[0]\n",
    "firstShift2015 = firstShift2015[firstShift2015[\"Duration\"] < 128.0 ]\n",
    "print(\"First Rows dropped:\", FSOutliers2015 -  firstShift2015.shape[0])"
   ]
  },
  {
   "cell_type": "markdown",
   "metadata": {},
   "source": [
    "### All Shifts"
   ]
  },
  {
   "cell_type": "code",
   "execution_count": 33,
   "metadata": {},
   "outputs": [
    {
     "name": "stdout",
     "output_type": "stream",
     "text": [
      "Distribution skew of 2015 Shifts 0.5072239994853199\n",
      "Distribution peakness of 2015 Shifts 0.6943492541825886\n"
     ]
    }
   ],
   "source": [
    "print( \"Distribution skew of 2015 Shifts\", shift2015[\"Duration\"].skew())\n",
    "print( \"Distribution peakness of 2015 Shifts\", shift2015[\"Duration\"].kurtosis())"
   ]
  },
  {
   "cell_type": "markdown",
   "metadata": {},
   "source": [
    "We seem to have normalized the data to a relatively acceptable skewness of .59 and a peakness value of 2.24. We don't want to normalize the data to much because we need enough long shifts to represent a double shift and see the shift's affect on the player's game. "
   ]
  },
  {
   "cell_type": "code",
   "execution_count": 34,
   "metadata": {},
   "outputs": [
    {
     "data": {
      "image/png": "[encoded data removed]",
      "text/plain": [
       "<Figure size 432x288 with 1 Axes>"
      ]
     },
     "metadata": {
      "needs_background": "light"
     },
     "output_type": "display_data"
    }
   ],
   "source": [
    "fig, ax = plt.subplots()\n",
    "ax.hist(shift2015[\"Duration\"], bins= 100, density = True)\n",
    "ax.set_xlabel('Shift Duration (Seconds)')\n",
    "ax.set_ylabel('Probability density')\n",
    "ax.set_title(r'Histogram of 2015 Shift Length')\n",
    "\n",
    "fig.tight_layout()\n",
    "plt.xlim(xmin=int(shift2015[[\"Duration\"]].min()), xmax = int(shift2015[[\"Duration\"]].max()))\n",
    "plt.show()"
   ]
  },
  {
   "cell_type": "markdown",
   "metadata": {},
   "source": [
    "### First Shift"
   ]
  },
  {
   "cell_type": "code",
   "execution_count": 35,
   "metadata": {},
   "outputs": [
    {
     "name": "stdout",
     "output_type": "stream",
     "text": [
      "Distribution skew of 2015 First Shifts 0.47824815856867253\n",
      "Distribution peakness of 2015 First Shifts 1.3750862695135977\n"
     ]
    }
   ],
   "source": [
    "print( \"Distribution skew of 2015 First Shifts\", firstShift2015[\"Duration\"].skew())\n",
    "print( \"Distribution peakness of 2015 First Shifts\", firstShift2015[\"Duration\"].kurtosis())"
   ]
  },
  {
   "cell_type": "code",
   "execution_count": 36,
   "metadata": {},
   "outputs": [
    {
     "data": {
      "image/png": "[encoded data removed]",
      "text/plain": [
       "<Figure size 432x288 with 1 Axes>"
      ]
     },
     "metadata": {
      "needs_background": "light"
     },
     "output_type": "display_data"
    }
   ],
   "source": [
    "fig, ax = plt.subplots()\n",
    "ax.hist(firstShift2015[\"Duration\"],bins= 100, density = True)\n",
    "ax.set_xlabel('Shift Duration (Seconds)')\n",
    "ax.set_ylabel('Probability density')\n",
    "ax.set_title(r'Histogram of 2015 First Shift Length')\n",
    "\n",
    "fig.tight_layout()\n",
    "plt.xlim(xmin=int(firstShift2015[[\"Duration\"]].min()), xmax = int(firstShift2015[[\"Duration\"]].max()))\n",
    "plt.show()"
   ]
  },
  {
   "cell_type": "markdown",
   "metadata": {},
   "source": [
    "# Experiment\n",
    "\n",
    "After removing the unwanted data, removing the outliers, we can progress with creating our experiment of difference in means. Here we're going to break out shift entries into two groups, \"Long\" and \"Short\". After that we are going to compare the Goal totals per game per player for the two groups. We are going to average out these Goals per game to try and smooth out any differences in the players and leave the only difference being their first shift length. \n",
    "\n",
    "## Data Preperation"
   ]
  },
  {
   "cell_type": "code",
   "execution_count": 37,
   "metadata": {},
   "outputs": [
    {
     "name": "stdout",
     "output_type": "stream",
     "text": [
      "Average Shift 2015: 45\n"
     ]
    }
   ],
   "source": [
    "# Decide the average shift\n",
    "avgShift2015 = round(shift2015[\"Duration\"].mean())\n",
    "print(\"Average Shift 2015:\", avgShift2015)"
   ]
  },
  {
   "cell_type": "code",
   "execution_count": 38,
   "metadata": {},
   "outputs": [],
   "source": [
    "# If the shift is greater than the average make it Long outcome\n",
    "# Else the shift is less than or equal to the average and we will make it Short Outcome\n",
    "firstShift2015[\"Shift_Category\"] = np.where(firstShift2015[\"Duration\"] > avgShift2015, 'Long', 'Short')"
   ]
  },
  {
   "cell_type": "code",
   "execution_count": 39,
   "metadata": {},
   "outputs": [],
   "source": [
    "# In order to effectively join the two data sets I needed to reset the index for the shift data\n",
    "firstShift2015.reset_index(drop = True, inplace= True)"
   ]
  },
  {
   "cell_type": "code",
   "execution_count": 40,
   "metadata": {},
   "outputs": [
    {
     "data": {
      "text/html": [
       "<div>\n",
       "<style scoped>\n",
       "    .dataframe tbody tr th:only-of-type {\n",
       "        vertical-align: middle;\n",
       "    }\n",
       "\n",
       "    .dataframe tbody tr th {\n",
       "        vertical-align: top;\n",
       "    }\n",
       "\n",
       "    .dataframe thead th {\n",
       "        text-align: right;\n",
       "    }\n",
       "</style>\n",
       "<table border=\"1\" class=\"dataframe\">\n",
       "  <thead>\n",
       "    <tr style=\"text-align: right;\">\n",
       "      <th></th>\n",
       "      <th>Shift_Id</th>\n",
       "      <th>Game_Id</th>\n",
       "      <th>Player_Id</th>\n",
       "      <th>Duration</th>\n",
       "      <th>Shift_Category</th>\n",
       "      <th>Goal_Id</th>\n",
       "    </tr>\n",
       "  </thead>\n",
       "  <tbody>\n",
       "    <tr>\n",
       "      <th>0</th>\n",
       "      <td>0</td>\n",
       "      <td>20001</td>\n",
       "      <td>8467496</td>\n",
       "      <td>36.00000</td>\n",
       "      <td>Short</td>\n",
       "      <td>0.00000</td>\n",
       "    </tr>\n",
       "    <tr>\n",
       "      <th>1</th>\n",
       "      <td>15</td>\n",
       "      <td>20001</td>\n",
       "      <td>8468504</td>\n",
       "      <td>40.00000</td>\n",
       "      <td>Short</td>\n",
       "      <td>0.00000</td>\n",
       "    </tr>\n",
       "    <tr>\n",
       "      <th>2</th>\n",
       "      <td>1</td>\n",
       "      <td>20001</td>\n",
       "      <td>8469521</td>\n",
       "      <td>36.00000</td>\n",
       "      <td>Short</td>\n",
       "      <td>0.00000</td>\n",
       "    </tr>\n",
       "    <tr>\n",
       "      <th>3</th>\n",
       "      <td>22</td>\n",
       "      <td>20001</td>\n",
       "      <td>8469707</td>\n",
       "      <td>37.00000</td>\n",
       "      <td>Short</td>\n",
       "      <td>0.00000</td>\n",
       "    </tr>\n",
       "    <tr>\n",
       "      <th>4</th>\n",
       "      <td>12</td>\n",
       "      <td>20001</td>\n",
       "      <td>8470039</td>\n",
       "      <td>41.00000</td>\n",
       "      <td>Short</td>\n",
       "      <td>0.00000</td>\n",
       "    </tr>\n",
       "  </tbody>\n",
       "</table>\n",
       "</div>"
      ],
      "text/plain": [
       "   Shift_Id  Game_Id  Player_Id  Duration Shift_Category  Goal_Id\n",
       "0         0    20001    8467496  36.00000          Short  0.00000\n",
       "1        15    20001    8468504  40.00000          Short  0.00000\n",
       "2         1    20001    8469521  36.00000          Short  0.00000\n",
       "3        22    20001    8469707  37.00000          Short  0.00000\n",
       "4        12    20001    8470039  41.00000          Short  0.00000"
      ]
     },
     "execution_count": 40,
     "metadata": {},
     "output_type": "execute_result"
    }
   ],
   "source": [
    "# In order to effectively join the two data sets I needed to reset the index for the shift data\n",
    "firstShift2015.reset_index(drop = True, inplace= True)\n",
    "# Count all the goal events by game id and then by player id\n",
    "playerGoalsPer2015 = goalEvents2015.groupby([\"Game_Id\", \"p1_ID\"]).count().reset_index()\n",
    "# Merge the data on a left join\n",
    "# This will keep the values in the shift data where the player did not have a goal that game\n",
    "# The rows without goals for the game will have NaN\n",
    "mergedGame2015 = firstShift2015.merge(playerGoalsPer2015, how='left', left_on=[\"Game_Id\",'Player_Id'], right_on = [\"Game_Id\",\"p1_ID\"])\n",
    "# Lets fill those NaNs with 0 values\n",
    "mergedGame2015.fillna(0, inplace=True)\n",
    "# I am going to drop the extra player ID column\n",
    "mergedGame2015.drop(columns = [\"p1_ID\"], inplace = True)\n",
    "mergedGame2015.head()"
   ]
  },
  {
   "cell_type": "markdown",
   "metadata": {},
   "source": [
    "## Experiment Execution"
   ]
  },
  {
   "cell_type": "markdown",
   "metadata": {},
   "source": [
    "In order to reject my null hypothesis I will need to have sufficent evidence to to say that outcome I am observing is not due to chance. That the year 2015 is not a random occurence. In order to do this I will take random samples from my group, compare the groups long and short and then see how many instances are similar to what I found in the NHL for 2015.\n",
    "\n",
    "### 2015 NHL"
   ]
  },
  {
   "cell_type": "code",
   "execution_count": 41,
   "metadata": {},
   "outputs": [
    {
     "data": {
      "text/plain": [
       "Shift_Category\n",
       "Long     17609\n",
       "Short    29884\n",
       "Name: Goal_Id, dtype: int64"
      ]
     },
     "execution_count": 41,
     "metadata": {},
     "output_type": "execute_result"
    }
   ],
   "source": [
    "mergedGame2015.groupby(\"Shift_Category\")[\"Goal_Id\"].count()"
   ]
  },
  {
   "cell_type": "code",
   "execution_count": 42,
   "metadata": {},
   "outputs": [
    {
     "name": "stdout",
     "output_type": "stream",
     "text": [
      "Shift_Category\n",
      "Long    0.15112\n",
      "Short   0.15440\n",
      "Name: Goal_Id, dtype: float64\n",
      "-0.0032810951014108913\n"
     ]
    }
   ],
   "source": [
    "grouped2015 = mergedGame2015.groupby(\"Shift_Category\")[\"Goal_Id\"].mean()\n",
    "grouped2015Short = grouped2015[1]\n",
    "grouped2015Long = grouped2015[0]\n",
    "grouped2015Diff = grouped2015Long - grouped2015Short\n",
    "print(grouped2015)\n",
    "print(grouped2015Diff)"
   ]
  },
  {
   "cell_type": "markdown",
   "metadata": {},
   "source": [
    "### 2015 Experiment Outcome \n",
    "\n",
    "This is our observed outcome.\n",
    "\n",
    "Just looking at the total counts of Goals and the mean of Goals for 2015 the first shift duration does not influence the number of goals on average. It looks like the shorter the shift the more goals players score throughout the game. \n",
    "\n",
    "We will look to see if shift duration and goals/game average is correlated.\n",
    "\n",
    "Finally, we will look to see what we are observing for 2015 if it is truly accurate or up to random chance. Using our data set we will randomly sample 10,000 seasons and compare the groups to see how many instances we will find like ours."
   ]
  },
  {
   "cell_type": "code",
   "execution_count": 43,
   "metadata": {},
   "outputs": [
    {
     "data": {
      "text/html": [
       "<div>\n",
       "<style scoped>\n",
       "    .dataframe tbody tr th:only-of-type {\n",
       "        vertical-align: middle;\n",
       "    }\n",
       "\n",
       "    .dataframe tbody tr th {\n",
       "        vertical-align: top;\n",
       "    }\n",
       "\n",
       "    .dataframe thead th {\n",
       "        text-align: right;\n",
       "    }\n",
       "</style>\n",
       "<table border=\"1\" class=\"dataframe\">\n",
       "  <thead>\n",
       "    <tr style=\"text-align: right;\">\n",
       "      <th></th>\n",
       "      <th>Shift_Id</th>\n",
       "      <th>Game_Id</th>\n",
       "      <th>Player_Id</th>\n",
       "      <th>Duration</th>\n",
       "      <th>Goal_Id</th>\n",
       "    </tr>\n",
       "  </thead>\n",
       "  <tbody>\n",
       "    <tr>\n",
       "      <th>Shift_Id</th>\n",
       "      <td>1.00000</td>\n",
       "      <td>0.56105</td>\n",
       "      <td>0.02271</td>\n",
       "      <td>-0.01023</td>\n",
       "      <td>0.00439</td>\n",
       "    </tr>\n",
       "    <tr>\n",
       "      <th>Game_Id</th>\n",
       "      <td>0.56105</td>\n",
       "      <td>1.00000</td>\n",
       "      <td>-0.02023</td>\n",
       "      <td>-0.04848</td>\n",
       "      <td>-0.00376</td>\n",
       "    </tr>\n",
       "    <tr>\n",
       "      <th>Player_Id</th>\n",
       "      <td>0.02271</td>\n",
       "      <td>-0.02023</td>\n",
       "      <td>1.00000</td>\n",
       "      <td>0.00925</td>\n",
       "      <td>-0.00785</td>\n",
       "    </tr>\n",
       "    <tr>\n",
       "      <th>Duration</th>\n",
       "      <td>-0.01023</td>\n",
       "      <td>-0.04848</td>\n",
       "      <td>0.00925</td>\n",
       "      <td>1.00000</td>\n",
       "      <td>-0.00944</td>\n",
       "    </tr>\n",
       "    <tr>\n",
       "      <th>Goal_Id</th>\n",
       "      <td>0.00439</td>\n",
       "      <td>-0.00376</td>\n",
       "      <td>-0.00785</td>\n",
       "      <td>-0.00944</td>\n",
       "      <td>1.00000</td>\n",
       "    </tr>\n",
       "  </tbody>\n",
       "</table>\n",
       "</div>"
      ],
      "text/plain": [
       "           Shift_Id  Game_Id  Player_Id  Duration  Goal_Id\n",
       "Shift_Id    1.00000  0.56105    0.02271  -0.01023  0.00439\n",
       "Game_Id     0.56105  1.00000   -0.02023  -0.04848 -0.00376\n",
       "Player_Id   0.02271 -0.02023    1.00000   0.00925 -0.00785\n",
       "Duration   -0.01023 -0.04848    0.00925   1.00000 -0.00944\n",
       "Goal_Id     0.00439 -0.00376   -0.00785  -0.00944  1.00000"
      ]
     },
     "execution_count": 43,
     "metadata": {},
     "output_type": "execute_result"
    }
   ],
   "source": [
    "mergedGame2015.corr()"
   ]
  },
  {
   "cell_type": "markdown",
   "metadata": {},
   "source": [
    "Goals/Game average does not appear to be correlated with First Shift Duration with a Correlation Coefficient of -0.00944. Based on these findings it does not appear that First Shift Duration has any relationship with Goals/Game average."
   ]
  },
  {
   "cell_type": "markdown",
   "metadata": {},
   "source": [
    "## Bootstrap of Difference in Means\n",
    "We are going to recreate our experiment conducted on the 2015 data on many different random samples of that 2015 data to see all the possible outcomes from that data. We will take a sample of the first shift data, and group the shifts to be Long or Short. We will match it up with the goal data for those games and players. Finally, take the means of the two groups, Long/Short and then show the difference for 10,000 samples."
   ]
  },
  {
   "cell_type": "code",
   "execution_count": 44,
   "metadata": {},
   "outputs": [
    {
     "name": "stdout",
     "output_type": "stream",
     "text": [
      "Population of First Shifts 47493\n",
      "10% of First Shift Rows 4749.3\n"
     ]
    }
   ],
   "source": [
    "# a good sample size is around 10% of the population\n",
    "## But that is too large. It is greater than 1000\n",
    "rows = firstShift2015.shape[0]\n",
    "print(\"Population of First Shifts\", rows)\n",
    "print(\"10% of First Shift Rows\", rows * .1)"
   ]
  },
  {
   "cell_type": "markdown",
   "metadata": {},
   "source": [
    "### Sample Size\n",
    "\n",
    "Let’s determine our sample size (n) for First Shift Data. We will want to have a large enough sample to represent the population of first shifts in the NHL but not large enough that the sample mirrors the current population I have in the data. The goal of the random sample is to create a selection of data that could represent a population out there that we don't have access to in our current data set."
   ]
  },
  {
   "cell_type": "markdown",
   "metadata": {},
   "source": [
    "Your confidence level corresponds to something called a \"z-score.\" A z-score is a value that indicates the placement of your raw score (meaning the percent of your confidence level) in any number of standard deviations below or above the population mean.\n",
    "\n",
    "Z-scores for the most common confidence intervals are:\n",
    "\n",
    "90% = 2.576\n",
    "95% = 1.96\n",
    "99% = 2.576"
   ]
  },
  {
   "cell_type": "code",
   "execution_count": 45,
   "metadata": {},
   "outputs": [
    {
     "name": "stdout",
     "output_type": "stream",
     "text": [
      "Sample First Shifts: 73\n"
     ]
    }
   ],
   "source": [
    "## Our intended level of confidence will be 95%\n",
    "## where Z is the Z-score corresponding to your desired confidence level \n",
    "## p is the estimated proportion of the population with a certain characteristic\n",
    "## E is the maximum error you are willing to tolerate in your estimate.\n",
    "## N population size\n",
    "\n",
    "Z = 1.96\n",
    "E = 0.05\n",
    "N = rows\n",
    "p = .05\n",
    "n = round(((Z**2 * p * (1-p))/ E**2)/(1 + ((Z**2 * p *(1-p))/((E**2) * N))))\n",
    "print(\"Sample First Shifts:\", n)"
   ]
  },
  {
   "cell_type": "code",
   "execution_count": 46,
   "metadata": {},
   "outputs": [
    {
     "data": {
      "text/html": [
       "<div>\n",
       "<style scoped>\n",
       "    .dataframe tbody tr th:only-of-type {\n",
       "        vertical-align: middle;\n",
       "    }\n",
       "\n",
       "    .dataframe tbody tr th {\n",
       "        vertical-align: top;\n",
       "    }\n",
       "\n",
       "    .dataframe thead th {\n",
       "        text-align: right;\n",
       "    }\n",
       "</style>\n",
       "<table border=\"1\" class=\"dataframe\">\n",
       "  <thead>\n",
       "    <tr style=\"text-align: right;\">\n",
       "      <th></th>\n",
       "      <th>Shift_Id</th>\n",
       "      <th>Game_Id</th>\n",
       "      <th>Player_Id</th>\n",
       "      <th>Duration</th>\n",
       "      <th>Shift_Category</th>\n",
       "    </tr>\n",
       "  </thead>\n",
       "  <tbody>\n",
       "    <tr>\n",
       "      <th>15510</th>\n",
       "      <td>344789</td>\n",
       "      <td>20432</td>\n",
       "      <td>8470041</td>\n",
       "      <td>70.00000</td>\n",
       "      <td>Long</td>\n",
       "    </tr>\n",
       "    <tr>\n",
       "      <th>14525</th>\n",
       "      <td>322302</td>\n",
       "      <td>20405</td>\n",
       "      <td>8476191</td>\n",
       "      <td>36.00000</td>\n",
       "      <td>Short</td>\n",
       "    </tr>\n",
       "    <tr>\n",
       "      <th>13095</th>\n",
       "      <td>290405</td>\n",
       "      <td>20365</td>\n",
       "      <td>8478528</td>\n",
       "      <td>45.00000</td>\n",
       "      <td>Short</td>\n",
       "    </tr>\n",
       "    <tr>\n",
       "      <th>28270</th>\n",
       "      <td>626574</td>\n",
       "      <td>20790</td>\n",
       "      <td>8475795</td>\n",
       "      <td>50.00000</td>\n",
       "      <td>Long</td>\n",
       "    </tr>\n",
       "    <tr>\n",
       "      <th>36140</th>\n",
       "      <td>801000</td>\n",
       "      <td>21008</td>\n",
       "      <td>8474688</td>\n",
       "      <td>29.00000</td>\n",
       "      <td>Short</td>\n",
       "    </tr>\n",
       "  </tbody>\n",
       "</table>\n",
       "</div>"
      ],
      "text/plain": [
       "       Shift_Id  Game_Id  Player_Id  Duration Shift_Category\n",
       "15510    344789    20432    8470041  70.00000           Long\n",
       "14525    322302    20405    8476191  36.00000          Short\n",
       "13095    290405    20365    8478528  45.00000          Short\n",
       "28270    626574    20790    8475795  50.00000           Long\n",
       "36140    801000    21008    8474688  29.00000          Short"
      ]
     },
     "execution_count": 46,
     "metadata": {},
     "output_type": "execute_result"
    }
   ],
   "source": [
    "# Lets try one iteration\n",
    "sample = firstShift2015.sample( n = n, replace = True)\n",
    "sample.head()"
   ]
  },
  {
   "cell_type": "code",
   "execution_count": 47,
   "metadata": {},
   "outputs": [
    {
     "data": {
      "text/html": [
       "<div>\n",
       "<style scoped>\n",
       "    .dataframe tbody tr th:only-of-type {\n",
       "        vertical-align: middle;\n",
       "    }\n",
       "\n",
       "    .dataframe tbody tr th {\n",
       "        vertical-align: top;\n",
       "    }\n",
       "\n",
       "    .dataframe thead th {\n",
       "        text-align: right;\n",
       "    }\n",
       "</style>\n",
       "<table border=\"1\" class=\"dataframe\">\n",
       "  <thead>\n",
       "    <tr style=\"text-align: right;\">\n",
       "      <th></th>\n",
       "      <th>Shift_Id</th>\n",
       "      <th>Game_Id</th>\n",
       "      <th>Player_Id</th>\n",
       "      <th>Duration</th>\n",
       "      <th>Shift_Category</th>\n",
       "      <th>Goal_Id</th>\n",
       "    </tr>\n",
       "  </thead>\n",
       "  <tbody>\n",
       "    <tr>\n",
       "      <th>0</th>\n",
       "      <td>344789</td>\n",
       "      <td>20432</td>\n",
       "      <td>8470041</td>\n",
       "      <td>70.00000</td>\n",
       "      <td>Long</td>\n",
       "      <td>1.00000</td>\n",
       "    </tr>\n",
       "    <tr>\n",
       "      <th>1</th>\n",
       "      <td>322302</td>\n",
       "      <td>20405</td>\n",
       "      <td>8476191</td>\n",
       "      <td>36.00000</td>\n",
       "      <td>Short</td>\n",
       "      <td>1.00000</td>\n",
       "    </tr>\n",
       "    <tr>\n",
       "      <th>2</th>\n",
       "      <td>290405</td>\n",
       "      <td>20365</td>\n",
       "      <td>8478528</td>\n",
       "      <td>45.00000</td>\n",
       "      <td>Short</td>\n",
       "      <td>0.00000</td>\n",
       "    </tr>\n",
       "    <tr>\n",
       "      <th>3</th>\n",
       "      <td>626574</td>\n",
       "      <td>20790</td>\n",
       "      <td>8475795</td>\n",
       "      <td>50.00000</td>\n",
       "      <td>Long</td>\n",
       "      <td>0.00000</td>\n",
       "    </tr>\n",
       "    <tr>\n",
       "      <th>4</th>\n",
       "      <td>801000</td>\n",
       "      <td>21008</td>\n",
       "      <td>8474688</td>\n",
       "      <td>29.00000</td>\n",
       "      <td>Short</td>\n",
       "      <td>0.00000</td>\n",
       "    </tr>\n",
       "  </tbody>\n",
       "</table>\n",
       "</div>"
      ],
      "text/plain": [
       "   Shift_Id  Game_Id  Player_Id  Duration Shift_Category  Goal_Id\n",
       "0    344789    20432    8470041  70.00000           Long  1.00000\n",
       "1    322302    20405    8476191  36.00000          Short  1.00000\n",
       "2    290405    20365    8478528  45.00000          Short  0.00000\n",
       "3    626574    20790    8475795  50.00000           Long  0.00000\n",
       "4    801000    21008    8474688  29.00000          Short  0.00000"
      ]
     },
     "execution_count": 47,
     "metadata": {},
     "output_type": "execute_result"
    }
   ],
   "source": [
    "sampleMerged2015 = sample.merge(playerGoalsPer2015, \n",
    "                                    how='left', \n",
    "                                    left_on=[\"Game_Id\",'Player_Id'], \n",
    "                                    right_on = [\"Game_Id\",\"p1_ID\"])\n",
    "sampleMerged2015.fillna(0, inplace=True)\n",
    "sampleMerged2015.drop(columns=[\"p1_ID\"], inplace = True)\n",
    "sampleMerged2015.head()"
   ]
  },
  {
   "cell_type": "code",
   "execution_count": 48,
   "metadata": {},
   "outputs": [
    {
     "name": "stdout",
     "output_type": "stream",
     "text": [
      "Shift_Category\n",
      "Long    0.10345\n",
      "Short   0.11364\n",
      "Name: Goal_Id, dtype: float64\n",
      "-0.010188087774294668\n"
     ]
    }
   ],
   "source": [
    "sampleGrouped2015 = sampleMerged2015.groupby(\"Shift_Category\")[\"Goal_Id\"].mean()\n",
    "sampleGrouped2015Short = sampleGrouped2015[1]\n",
    "sampleGrouped2015Long = sampleGrouped2015[0]\n",
    "sampleGrouped2015Diff = sampleGrouped2015Long - sampleGrouped2015Short\n",
    "print(sampleGrouped2015)\n",
    "print(sampleGrouped2015Diff)"
   ]
  },
  {
   "cell_type": "markdown",
   "metadata": {},
   "source": [
    "We find here in this sample that the short shift group scored on average .08 more goals per game. This is just one sample, 73 shifts out of all the available first shifts in the data. It is rather close to our observed result in all of the 2015 data. Lets attempt this on many samples."
   ]
  },
  {
   "cell_type": "markdown",
   "metadata": {},
   "source": [
    "### Many Seasons\n",
    "We would like to see over thousands of seasons how much the Goals/Game average would differ for our \"Long\" first shift group versus our \"Short\" first shift group. For 2015 the Goals/Game average would differ for our \"Long\" first shift group versus our \"Short\" first shift group was -0.08 Goals per game. Meanings on average the Short first shift group scored .08 more goals per games than the Long first shift group."
   ]
  },
  {
   "cell_type": "code",
   "execution_count": 49,
   "metadata": {},
   "outputs": [],
   "source": [
    "def goalsPerGameDiffBoot(shifts, goalsGame, sampleSize, iterations):\n",
    "    # Collect Differences\n",
    "    goalDiffs = []\n",
    "    # Iterate through the range of all the iterations\n",
    "    for i in range(iterations):\n",
    "        # Take a random sample\n",
    "        sample = shifts.sample(n = sampleSize, replace = True)\n",
    "        # Merge the shift and goal data\n",
    "        sampleMerged = sample.merge(goalsGame, \n",
    "                                    how='left', \n",
    "                                    left_on=[\"Game_Id\",'Player_Id'], \n",
    "                                    right_on = [\"Game_Id\",\"p1_ID\"])\n",
    "        # Fill the NaNs with 0 values for no goals for that game\n",
    "        sampleMerged.fillna(0, inplace=True)\n",
    "        # Take a mean of all the goals\n",
    "        sampleGrouped = sampleMerged.groupby(\"Shift_Category\")[\"Goal_Id\"].mean()\n",
    "        # Calculate the difference\n",
    "        sampleGroupedShort = sampleGrouped[1]\n",
    "        sampleGroupedLong = sampleGrouped[0]\n",
    "        sampleGroupedDiff = sampleGroupedLong - sampleGroupedShort\n",
    "        # Append on to the collector\n",
    "        goalDiffs.append(sampleGroupedDiff)\n",
    "        \n",
    "    return goalDiffs"
   ]
  },
  {
   "cell_type": "code",
   "execution_count": 50,
   "metadata": {},
   "outputs": [],
   "source": [
    "diffBootData1000 = goalsPerGameDiffBoot(shifts = firstShift2015, \n",
    "                                    goalsGame = goalEvents2015, \n",
    "                                    sampleSize = n, \n",
    "                                    iterations = 1000)"
   ]
  },
  {
   "cell_type": "code",
   "execution_count": 51,
   "metadata": {},
   "outputs": [
    {
     "data": {
      "image/png": "[encoded data removed]",
      "text/plain": [
       "<Figure size 432x288 with 1 Axes>"
      ]
     },
     "metadata": {
      "needs_background": "light"
     },
     "output_type": "display_data"
    }
   ],
   "source": [
    "plt.hist(diffBootData1000, bins=20, color='blue', alpha=0.5)\n",
    "plt.xlabel('Goal Average Differential')\n",
    "plt.ylabel('Frequency')\n",
    "plt.title('Histogram of 1000 iterations of Goal Differential')\n",
    "plt.plot(grouped2015Diff , 0, 'ro')\n",
    "plt.show()"
   ]
  },
  {
   "cell_type": "code",
   "execution_count": 52,
   "metadata": {},
   "outputs": [],
   "source": [
    "diffBootData10000 = goalsPerGameDiffBoot(shifts = firstShift2015, \n",
    "                                    goalsGame = goalEvents2015, \n",
    "                                    sampleSize = n, \n",
    "                                    iterations = 10000)"
   ]
  },
  {
   "cell_type": "code",
   "execution_count": 53,
   "metadata": {},
   "outputs": [
    {
     "data": {
      "image/png": "[encoded data removed]",
      "text/plain": [
       "<Figure size 432x288 with 1 Axes>"
      ]
     },
     "metadata": {
      "needs_background": "light"
     },
     "output_type": "display_data"
    }
   ],
   "source": [
    "plt.hist(diffBootData10000, bins=20, color='blue', alpha=0.5)\n",
    "plt.xlabel('Goal Average Differential')\n",
    "plt.ylabel('Frequency')\n",
    "plt.title('Histogram of 10,000 iterations of Goal Differential')\n",
    "plt.plot(grouped2015Diff , 0, 'ro')\n",
    "plt.show()"
   ]
  },
  {
   "cell_type": "markdown",
   "metadata": {},
   "source": [
    "# Experiment Outcome\n",
    "\n",
    "Final thoughts, we have failed to reject the null hypothesis. I feel that we have almost confirmed the null hypothesis, that the first shift duration does not have an effect on the average goals per game outcome for a player. I know that is this wrong terminology to use in data science but we ran through a random experiment on 1,000 and 10,000 iterations and found that our observed outcome in 2015 is likely to occur. \n",
    "\n",
    "It turns out that some coach in the 80s and 90s just wanted an excuse to play the best player of all time more often in the first couple shifts of a game. Having that in your back pocket as a coach must have been really nice.\n",
    "\n",
    "## Possible future experiments\n",
    "\n",
    "- I wonder if we decided the shift category on the median and instead of the mean.\n",
    "\n",
    "The median would be the 50th percentile of the shift data and would be less affected by the outliers or long shifts. The mean gets dragged away from the median towards the tail of the data. For the shift data we found that the distribution was right tailed, some players got stuck out on the ice for some long shifts. If we used median it would not allow those shifts to affect how we categorize our first shifts. \n",
    "\n",
    "- I wonder if the first shift duration has anything to do with the point totals, not just goals.\n",
    "\n",
    "All hockey players know, and many coaches know that players have an impact on the game without scoring goals, specifically defenseman. If a defenseman is taking a long shift to get into the game, he might be more affective at making great outlet passes or great defensive stops. All of that can't be measured in goals. \n",
    "\n",
    "- I wonder if the second shift should be long.\n",
    "\n",
    "This idea came from my playing days. I always wanted to take a short first shift, touch the puck, hit someone, and get off the ice before anything bad happened. Then my next shift I would try to get good and tired, and I was in the game for the rest of it. I know this might suprise you but I'm not an NHL player, it would still be interesting to see if how I took an outlook on the game had any true affect beyond just how I felt in my head."
   ]
  }
 ],
 "metadata": {
  "kernelspec": {
   "display_name": "Python 3",
   "language": "python",
   "name": "python3"
  },
  "language_info": {
   "codemirror_mode": {
    "name": "ipython",
    "version": 3
   },
   "file_extension": ".py",
   "mimetype": "text/x-python",
   "name": "python",
   "nbconvert_exporter": "python",
   "pygments_lexer": "ipython3",
   "version": "3.7.6"
  }
 },
 "nbformat": 4,
 "nbformat_minor": 4
}
